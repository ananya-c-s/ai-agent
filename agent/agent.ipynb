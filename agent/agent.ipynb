{
 "cells": [
  {
   "cell_type": "code",
   "metadata": {
    "ExecuteTime": {
     "end_time": "2025-07-06T19:13:34.625355Z",
     "start_time": "2025-07-06T19:13:34.615190Z"
    }
   },
   "source": [
    "from langchain_community.chat_models import ChatOllama\n",
    "from dotenv import load_dotenv"
   ],
   "outputs": [],
   "execution_count": 6
  },
  {
   "cell_type": "code",
   "metadata": {
    "ExecuteTime": {
     "end_time": "2025-07-06T19:13:51.314480Z",
     "start_time": "2025-07-06T19:13:51.300818Z"
    }
   },
   "source": [
    "load_dotenv()"
   ],
   "outputs": [
    {
     "data": {
      "text/plain": [
       "True"
      ]
     },
     "execution_count": 9,
     "metadata": {},
     "output_type": "execute_result"
    }
   ],
   "execution_count": 9
  },
  {
   "cell_type": "code",
   "metadata": {
    "ExecuteTime": {
     "end_time": "2025-07-06T19:13:52.997492Z",
     "start_time": "2025-07-06T19:13:52.984658Z"
    }
   },
   "source": [
    "def get_profile_content(profile) -> str:\n",
    "    \"\"\" Get Profile data from Linkedin profile url or from a Profile file.\"\"\"\n",
    "    profile = open('./profiles/' + profile, 'r')\n",
    "    profile_content = profile.read()\n",
    "    return profile_content\n",
    "\n",
    "\n",
    "def extract_receiver_profile_information(profile_content) -> str:\n",
    "    \"\"\"Extract useful information from the profile content.\"\"\"\n",
    "\n",
    "    query = \"Get Profile details like name, organization and current role from the profile content.\"\n",
    "    model = ChatOllama(model=\"llama3\")\n",
    "    response = model.invoke([\n",
    "    {\"role\": \"user\", \"content\": f\"Profile URL: {profile_content} \\n\\n Question: {query}\"}\n",
    "    ])\n",
    "    print(response.content)\n",
    "\n",
    "    \n",
    "    return response.content\n",
    "\n",
    "\n",
    "\n",
    "def extract_candidate_profile_information(profile_content) -> str:\n",
    "    \"\"\"Extract useful information from the candidate profile content.\"\"\"\n",
    "\n",
    "    query = \"Get Profile details like name, organization, current role, experience and skill from the profile content.\"\n",
    "    model = ChatOllama(model=\"llama3\")\n",
    "    response = model.invoke([\n",
    "            {\"role\": \"system\", \"content\": \"You are a helpful assistant that extracts profile details from the provided content.\"},\n",
    "            {\"role\": \"user\", \"content\": f\"Profile URL: {profile_content} \\n\\n Question: {query}\"}\n",
    "        ])\n",
    "    \n",
    "    return response.content"
   ],
   "outputs": [],
   "execution_count": 10
  },
  {
   "cell_type": "code",
   "metadata": {
    "ExecuteTime": {
     "end_time": "2025-07-06T19:15:28.160303Z",
     "start_time": "2025-07-06T19:13:59.281068Z"
    }
   },
   "source": [
    "CANDIDATE_PROFILE = 'profile1.txt'\n",
    "RECEIVER_PROFILE = 'profile2.txt'\n",
    "\n",
    "receiver_profile_content = get_profile_content(RECEIVER_PROFILE)\n",
    "receiver_profile_information = extract_receiver_profile_information(receiver_profile_content)\n",
    "\n",
    "candidate_profile_content = get_profile_content(CANDIDATE_PROFILE)\n",
    "candidate_profile_information = extract_candidate_profile_information(candidate_profile_content)\n",
    "\n",
    "print(receiver_profile_information)\n",
    "print(candidate_profile_information)"
   ],
   "outputs": [
    {
     "name": "stdout",
     "output_type": "stream",
     "text": [
      "Based on the provided profile content, here are the extracted details:\n",
      "\n",
      "* Name: Ananya Shankar Chittoor\n",
      "* Organization: Not specified in the given text.\n",
      "* Current Role: Senior Salesforce & Java Developer (currently open to full-time senior roles (Salesforce or Java) in Canada – Remote/Hybrid).\n",
      "\n",
      "Please let me know if you need anything else!\n",
      "Based on the provided profile content, here are the extracted details:\n",
      "\n",
      "* Name: Ananya Shankar Chittoor\n",
      "* Organization: Not specified in the given text.\n",
      "* Current Role: Senior Salesforce & Java Developer (currently open to full-time senior roles (Salesforce or Java) in Canada – Remote/Hybrid).\n",
      "\n",
      "Please let me know if you need anything else!\n",
      "Here are the extracted profile details:\n",
      "\n",
      "**Name:** Giles Edkins\n",
      "\n",
      "**Organization:** Broadcom Corporation, BlueCat\n",
      "\n",
      "**Current Role:** Principal Engineer (Software) at Broadcom Corporation\n",
      "\n",
      "**Experience:**\n",
      "\n",
      "* Senior Principal Software Developer at BlueCat (September 2015 - June 2024, 8 years 10 months)\n",
      "* Principal Engineer at Broadcom (July 2006 - August 2014, 8 years 2 months)\n",
      "\n",
      "**Skills:** Processors, Algorithms, Debugging\n",
      "\n",
      "Let me know if you need any further assistance!\n"
     ]
    }
   ],
   "execution_count": 11
  },
  {
   "cell_type": "code",
   "metadata": {
    "ExecuteTime": {
     "end_time": "2025-07-06T19:15:48.077109Z",
     "start_time": "2025-07-06T19:15:48.072070Z"
    }
   },
   "source": [
    "def write_a_referral_pitch(receiver_information, candidate_information):\n",
    "    \"\"\" Write a referral pitch based on the receiver's and candidate profile information.\"\"\"\n",
    "    query = '''\n",
    "    You are a candidate applying to a role.\n",
    "    Write a referral pitch for applying to an open position in the receiver's organization \n",
    "    based on the receiver's profile information and the candidate profile information. \n",
    "    The receiver profile information and candidate profile information is provided to you and \n",
    "    the receiver information has the receiver name, organization, and current role.\n",
    "    The candidate profile information has the candidate name, organization, current role, experience, and skills.\n",
    "    \n",
    "    The pitch should be concise, professional, and highlight the candidate's skills and\n",
    "    experiences that make them a good fit for the position.\n",
    "\n",
    "    Keep the pitch message concise and to the point, under 100 words.\n",
    "    '''\n",
    "\n",
    "    model = (ChatOllama(model=\"llama3\"))\n",
    "    response = model.invoke([\n",
    "            {\n",
    "                \"role\": \"system\", \n",
    "                \"content\": \"You are the Candidate trying to write a referral pitch for applying to an open position in the receiver's organization.\"\n",
    "            },\n",
    "            {\n",
    "                \"role\": \"user\", \n",
    "                \"content\": f\"Receiver Information: {receiver_information} \\n\\n Candidate Information: {candidate_information} \\n\\n Question: {query}\"\n",
    "            }\n",
    "        ])\n",
    "    \n",
    "    return response.content"
   ],
   "outputs": [],
   "execution_count": 15
  },
  {
   "cell_type": "code",
   "metadata": {
    "ExecuteTime": {
     "end_time": "2025-07-06T19:16:56.793968Z",
     "start_time": "2025-07-06T19:15:57.234381Z"
    }
   },
   "source": [
    "referral_pitch = write_a_referral_pitch(receiver_profile_information, candidate_profile_information)"
   ],
   "outputs": [],
   "execution_count": 16
  },
  {
   "cell_type": "code",
   "metadata": {
    "ExecuteTime": {
     "end_time": "2025-07-06T19:17:00.015937Z",
     "start_time": "2025-07-06T19:17:00.009729Z"
    }
   },
   "source": [
    "print(referral_pitch)"
   ],
   "outputs": [
    {
     "name": "stdout",
     "output_type": "stream",
     "text": [
      "Dear Ananya Shankar Chittoor,\n",
      "\n",
      "I'm excited to recommend myself, Giles Edkins, for any open full-time senior roles in Canada (Salesforce or Java) that align with my skills and experience. As a Principal Engineer at Broadcom Corporation, I've spent over 15 years honing my expertise in processors, algorithms, and debugging. My 8-year tenure as Senior Principal Software Developer at BlueCat demonstrates my ability to lead complex projects and mentor teams. I'm confident my background will make me a strong fit for your organization. I'd welcome the opportunity to discuss how my skills can contribute to your team's success.\n",
      "\n",
      "Best regards,\n",
      "Giles Edkins\n"
     ]
    }
   ],
   "execution_count": 17
  },
  {
   "cell_type": "code",
   "execution_count": null,
   "metadata": {},
   "outputs": [],
   "source": []
  }
 ],
 "metadata": {
  "kernelspec": {
   "display_name": "saurav-env",
   "language": "python",
   "name": "python3"
  },
  "language_info": {
   "codemirror_mode": {
    "name": "ipython",
    "version": 3
   },
   "file_extension": ".py",
   "mimetype": "text/x-python",
   "name": "python",
   "nbconvert_exporter": "python",
   "pygments_lexer": "ipython3",
   "version": "3.13.1"
  }
 },
 "nbformat": 4,
 "nbformat_minor": 2
}
